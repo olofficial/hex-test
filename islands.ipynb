{
 "cells": [
  {
   "attachments": {},
   "cell_type": "markdown",
   "metadata": {},
   "source": []
  },
  {
   "cell_type": "code",
   "execution_count": null,
   "metadata": {},
   "outputs": [],
   "source": [
    "%pip install obplib\n",
    "%pip install jdc"
   ]
  },
  {
   "cell_type": "markdown",
   "metadata": {},
   "source": []
  },
  {
   "cell_type": "code",
   "execution_count": null,
   "metadata": {},
   "outputs": [],
   "source": [
    "import obplib as obp\n",
    "\n",
    "#utility packages\n",
    "import os \n",
    "import numpy as np\n",
    "import copy\n",
    "\n",
    "#used solely for this guide\n",
    "import jdc"
   ]
  },
  {
   "attachments": {},
   "cell_type": "markdown",
   "metadata": {},
   "source": [
    "The partitioning of the build area is done using overlapping rectangles, like the following picture:\n",
    "\n",
    "To create these rectangles, the superclass `Shape` is first created, along with the child class `Rectangle` and a private boolean function that checks whether a point is inside the rectangle:"
   ]
  },
  {
   "cell_type": "code",
   "execution_count": null,
   "metadata": {},
   "outputs": [],
   "source": [
    "#superclass, stores midpoint as cartesian coordinates [x, y]\n",
    "class Shape: \n",
    "    def __init__(self, midpoint):\n",
    "        self.midpoint = midpoint\n",
    "\n",
    "#child class of Shape, stores midpoint as cartesian coordinates and dimensions as measurements in x and y directions\n",
    "class Rectangle(Shape):\n",
    "    def __init__(self, midpoint, dimensions):\n",
    "        super().__init__(midpoint)\n",
    "        self.dimensions = dimensions\n",
    "\n",
    "    #help function to determine whether a point is in the rectangle\n",
    "    def _is_in_rectangle(self, point):\n",
    "        return (\n",
    "            point[0] >= self.midpoint[0] - self.dimensions[0] / 2\n",
    "            and point[0] <= self.midpoint[0] + self.dimensions[0] / 2\n",
    "            and point[1] >= self.midpoint[1] - self.dimensions[1] / 2\n",
    "            and point[1] <= self.midpoint[1] + self.dimensions[1] / 2\n",
    "        )"
   ]
  },
  {
   "attachments": {},
   "cell_type": "markdown",
   "metadata": {},
   "source": [
    "Next the child class `Island` is introduced: "
   ]
  },
  {
   "cell_type": "code",
   "execution_count": null,
   "metadata": {},
   "outputs": [],
   "source": [
    "#subclass of Rectangle\n",
    "class Island(Rectangle):\n",
    "    def __init__(self, build_dimensions, build_midpoint, midpoint, dimensions, margins, speed, spot_size, power):\n",
    "        #island attributes\n",
    "        super().__init__(midpoint, np.add(dimensions, np.multiply(margins, 2)))\n",
    "        self.speed = speed #beam speed\n",
    "        self.spot_size = spot_size #beam spot size\n",
    "        self.power = power #beam power\n",
    "        self.margins = margins #margin size as list of length 2 in x and y direction\n",
    "        #build attributes\n",
    "        self.build_dimensions = build_dimensions #dimensions of the build object\n",
    "        self.build_midpoint = build_midpoint #midpoint of the build object"
   ]
  },
  {
   "cell_type": "markdown",
   "metadata": {},
   "source": [
    "The `Island` class stores attributes that are related to the specific island, but also attributes that "
   ]
  }
 ],
 "metadata": {
  "language_info": {
   "name": "python"
  },
  "orig_nbformat": 4
 },
 "nbformat": 4,
 "nbformat_minor": 2
}

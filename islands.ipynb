{
 "cells": [
  {
   "attachments": {},
   "cell_type": "markdown",
   "metadata": {},
   "source": [
    "# Island melting build file creation <img align=\"right\" width=\"192\" height=\"64\" src=\"https://freemelt.com/app/uploads/freemeltLogo-1.png\">"
   ]
  },
  {
   "cell_type": "markdown",
   "metadata": {},
   "source": [
    "Electron Beam Melting is usually done using line melting patterns. A problem that arises with line melting is powder transport, when the electron beam pushes the powder ahead of itself. This causes internal stress, component warping and uneven surfaces, all obviously unwanted consequences. This issue is correlated with the line length, so larger components are more susceptible to powder transport. One way to mitigate this is to implement what is called an *island melting* strategy, where the build area is partitioned into a grid of overlapping rectangles, called *islands*. These islands are then subsequently melted one at a time in a certain order, varieties of which will be implemented in this guide. \n",
    "\n",
    "First of all, importing the necessary libraries:"
   ]
  },
  {
   "cell_type": "code",
   "execution_count": 1,
   "metadata": {},
   "outputs": [],
   "source": [
    "import obplib as obp\n",
    "\n",
    "#utility packages\n",
    "import os \n",
    "import numpy as np\n",
    "import interactive_viewer as iw\n",
    "import random as rnd\n",
    "\n",
    "#used solely for this guide\n",
    "import jdc"
   ]
  },
  {
   "attachments": {},
   "cell_type": "markdown",
   "metadata": {},
   "source": [
    "The partitioning of the build area is done using overlapping rectangles, like the following picture:\n",
    "\n",
    "To create these rectangles, the superclass `Shape` is first created, along with the child class `Rectangle` and a private boolean function that checks whether a point is inside the rectangle. Of course, other shapes such as circles and triangles could be supported, but as a rectangle is very simple to model mathematically, it will be the shape of choice for this guide. "
   ]
  },
  {
   "cell_type": "code",
   "execution_count": 2,
   "metadata": {},
   "outputs": [],
   "source": [
    "#superclass, stores midpoint as cartesian coordinates [x, y]\n",
    "class Shape: \n",
    "    def __init__(self, midpoint):\n",
    "        self.midpoint = midpoint\n",
    "\n",
    "#child class of Shape, stores midpoint as cartesian coordinates and dimensions as measurements in x and y directions\n",
    "class Rectangle(Shape):\n",
    "    def __init__(self, midpoint, dimensions):\n",
    "        super().__init__(midpoint)\n",
    "        self.dimensions = dimensions\n",
    "\n",
    "    #help function to determine whether a point is in a given rectangle defined by its midpoint and dimensions\n",
    "    def _is_in_rectangle(self, point, midpoint, dimensions):\n",
    "        x_min = midpoint[0] - dimensions[0] / 2\n",
    "        x_max = midpoint[0] + dimensions[0] / 2\n",
    "        y_min = midpoint[1] - dimensions[1] / 2\n",
    "        y_max = midpoint[1] + dimensions[1] / 2\n",
    "\n",
    "        return x_min <= point[0] <= x_max and y_min <= point[1] <= y_max"
   ]
  },
  {
   "cell_type": "markdown",
   "metadata": {},
   "source": [
    "An example:"
   ]
  },
  {
   "cell_type": "code",
   "execution_count": 3,
   "metadata": {},
   "outputs": [
    {
     "name": "stdout",
     "output_type": "stream",
     "text": [
      "Point 1 in rectangle:  False\n",
      "Point 2 in rectangle:  True\n"
     ]
    }
   ],
   "source": [
    "#test for Rectangle class, with two points where one is outside the rectangle and one is inside\n",
    "midpoint = [0, 0]\n",
    "dimensions = [1, 1]\n",
    "test = Rectangle(midpoint, dimensions) #a square of height and width of 1, centered in the origin\n",
    "point_1 = [2, 2]\n",
    "point_2 = [0, 0]\n",
    "print(\"Point 1 in rectangle: \", test._is_in_rectangle(point_1, midpoint, dimensions))\n",
    "print(\"Point 2 in rectangle: \", test._is_in_rectangle(point_2, midpoint, dimensions))"
   ]
  },
  {
   "attachments": {},
   "cell_type": "markdown",
   "metadata": {},
   "source": [
    "Next the child class `Island` is introduced: "
   ]
  },
  {
   "cell_type": "code",
   "execution_count": 4,
   "metadata": {},
   "outputs": [],
   "source": [
    "#subclass of Rectangle\n",
    "class Island(Rectangle):\n",
    "    def __init__(self, build_dimensions, build_midpoint, midpoint, dimensions, margins, speed, spot_size, power):\n",
    "        #island attributes\n",
    "        super().__init__(midpoint, np.add(dimensions, np.multiply(margins, 2)))\n",
    "        self.speed = speed #beam speed\n",
    "        self.spot_size = spot_size #beam spot size\n",
    "        self.power = power #beam power\n",
    "        self.margins = margins #margin size as list of length 2 in x and y direction\n",
    "        #build attributes\n",
    "        self.build_dimensions = build_dimensions\n",
    "        self.build_midpoint = build_midpoint"
   ]
  },
  {
   "cell_type": "markdown",
   "metadata": {},
   "source": [
    "The `Island` class stores attributes that are related to the specific island, but also the build area attributes in order to be able to place points within the build object area.\n",
    "\n",
    "Next, the points are placed in a square grid with a certain density, if the point is inside the build object:"
   ]
  },
  {
   "cell_type": "code",
   "execution_count": 5,
   "metadata": {},
   "outputs": [],
   "source": [
    "%%add_to Island\n",
    "#places points in a square grid with density as an argument\n",
    "def _place_points(self, density):\n",
    "    number_of_points = [int(self.dimensions[0] * density), int(self.dimensions[1] * density)]\n",
    "    points = [\n",
    "                [\n",
    "                obp.Point(j / density + self.midpoint[0] - self.dimensions[0] / 2, i / density + self.midpoint[1] - self.dimensions[1] / 2) \n",
    "                for j in range(number_of_points[0] + 1)\n",
    "                        if self._is_in_rectangle([j / density + self.midpoint[0] - self.dimensions[0] / 2, i / density + self.midpoint[1] - self.dimensions[1] / 2], self.build_midpoint, self.build_dimensions)\n",
    "                ]\n",
    "                for i in range(number_of_points[1] + 1)\n",
    "    ]\n",
    "    return [ele for ele in points if ele] #return points within the build area"
   ]
  },
  {
   "cell_type": "markdown",
   "metadata": {},
   "source": [
    "Next, an example. The `Island` `isl_test` has the same dimensions as `test` from the previous example, but a margin that doubles the side width. However, since the margins would fall outside the `test` build area, the points outside have been omitted. "
   ]
  },
  {
   "cell_type": "code",
   "execution_count": 6,
   "metadata": {},
   "outputs": [
    {
     "name": "stdout",
     "output_type": "stream",
     "text": [
      "[[-0.5, -0.5], [0.5, -0.5], [-0.5, 0.5], [0.5, 0.5]]\n"
     ]
    }
   ],
   "source": [
    "isl_test = Island(build_dimensions = test.dimensions, build_midpoint = test.midpoint, midpoint = [0, 0], dimensions = [1, 1], margins = [1, 1], speed = 100, spot_size = 100, power = 100)\n",
    "points = isl_test._place_points(density = 1) #place points with a density of 1 point per micrometer\n",
    "point_information = [ #get the x and y coordinates of points\n",
    "    [\n",
    "        points[i][j].x, points[i][j].y\n",
    "    ] \n",
    "    for i in range(len(points)) for j in range(len(points[i]))\n",
    "    ] \n",
    "print(point_information)"
   ]
  },
  {
   "cell_type": "markdown",
   "metadata": {},
   "source": [
    "A line melting pattern can be added, in this case the test pattern `place_lines_one_direction`. All it does is place a `Line` object starting at the leftmost point and ending at the rightmost point for every row in an `Island`. Afterwards, it saves the lines in an `.obp` file."
   ]
  },
  {
   "cell_type": "code",
   "execution_count": 7,
   "metadata": {},
   "outputs": [],
   "source": [
    "%%add_to Island\n",
    "#test pattern, unidirectional beam paths from side to side\n",
    "def place_lines_one_direction(self, density, filename):\n",
    "    # Generate the points on the powder bed\n",
    "    points = self._place_points(density)\n",
    "\n",
    "    # Create the lines based on the points\n",
    "    lines = []\n",
    "    y_range = range(len(points))\n",
    "    bp = obp.Beamparameters(self.spot_size, self.power)\n",
    "    for y in y_range:\n",
    "        lines.append(obp.Line(points[y][0], points[y][-1], self.speed, bp))\n",
    "\n",
    "    # Write the lines to the file\n",
    "    try:\n",
    "        old_obp = obp.read_obp(filename)\n",
    "        new_obp = old_obp + lines\n",
    "        obp.write_obp(new_obp, filename)\n",
    "    except:\n",
    "        obp.write_obp(lines, filename)\n",
    "    \n",
    "    return lines"
   ]
  },
  {
   "cell_type": "markdown",
   "metadata": {},
   "source": [
    "`isl_test` has two rows and two columns of points when `density = 1`, which would result in two lines. Reusing the previous examples to demonstrate:"
   ]
  },
  {
   "cell_type": "code",
   "execution_count": 8,
   "metadata": {},
   "outputs": [
    {
     "data": {
      "application/vnd.jupyter.widget-view+json": {
       "model_id": "893d239620074a21a77495a0107e65aa",
       "version_major": 2,
       "version_minor": 0
      },
      "text/plain": [
       "interactive(children=(IntSlider(value=1, description='upper_lim', max=2, min=1), IntText(value=2, description=…"
      ]
     },
     "metadata": {},
     "output_type": "display_data"
    }
   ],
   "source": [
    "lines = isl_test.place_lines_one_direction(density = 1, filename = \"lines.txt\")\n",
    "iw.interactive_viewer(lines)"
   ]
  },
  {
   "cell_type": "markdown",
   "metadata": {},
   "source": [
    "Now to place the islands on the build object area. For this, the `Build_Area` object is introduced. It has a private method, `_populate_with_islands`, that calculates the size of the islands and initiates `Island` objects in an overlapping grid."
   ]
  },
  {
   "cell_type": "code",
   "execution_count": 9,
   "metadata": {},
   "outputs": [],
   "source": [
    "#'User interface' class\n",
    "class Build_Area:\n",
    "    def __init__(self, island_numbers, midpoint, build_dimensions, margins):\n",
    "        self.midpoint = midpoint\n",
    "        self.build_dimensions = build_dimensions\n",
    "        self.margins = margins\n",
    "        for i in range(2): #margins can't be larger than the island sizes\n",
    "            if self.margins[i] >= self.build_dimensions[i] / island_numbers[i]:\n",
    "                raise Exception(\"Margin too large!\")\n",
    "        self.islands = self._populate_with_islands(island_numbers)\n",
    "            \n",
    "    #populates the build object with partially overlapping islands\n",
    "    def _populate_with_islands(self, island_numbers):\n",
    "        islands = []\n",
    "        island_dimensions = [ #compute the dimensions of the islands\n",
    "            self.build_dimensions[0] / island_numbers[0],\n",
    "            self.build_dimensions[1] / island_numbers[1],\n",
    "        ]\n",
    "        #compute the midpoint of the islands and populates the grid with islands\n",
    "        for i in range(island_numbers[1]):\n",
    "            for j in range(island_numbers[0]):\n",
    "                island_midpoint = [\n",
    "                    self.midpoint[0] + island_dimensions[0] * (j + 1 / 2)\n",
    "                    - self.build_dimensions[0] / 2,\n",
    "                   self.midpoint[1] +  island_dimensions[1] * (i  + 1 / 2)\n",
    "                    - self.build_dimensions[1] / 2\n",
    "                ]\n",
    "                islands.append(Island(self.build_dimensions, self.midpoint, island_midpoint, island_dimensions, self.margins, speed = 100, spot_size = 100, power = 100))\n",
    "        return [ele for ele in islands if ele]"
   ]
  },
  {
   "cell_type": "markdown",
   "metadata": {},
   "source": [
    "Next, the islands are melted in order:"
   ]
  },
  {
   "cell_type": "code",
   "execution_count": 10,
   "metadata": {},
   "outputs": [],
   "source": [
    "%%add_to Build_Area\n",
    "#calls the melt pattern on each island\n",
    "def melt_islands(self, density, filename):\n",
    "    lines = []\n",
    "    for island in self.islands:\n",
    "        lines.append(island.place_lines_one_direction(density, filename)) #change for different melting pattern\n",
    "    return lines"
   ]
  },
  {
   "cell_type": "markdown",
   "metadata": {},
   "source": [
    "### Example - \n",
    "\n",
    "In this example "
   ]
  },
  {
   "cell_type": "code",
   "execution_count": 11,
   "metadata": {},
   "outputs": [
    {
     "data": {
      "image/png": "[encoded data removed]",
      "text/plain": [
       "<Figure size 2560x1920 with 1 Axes>"
      ]
     },
     "metadata": {},
     "output_type": "display_data"
    },
    {
     "data": {
      "application/vnd.jupyter.widget-view+json": {
       "model_id": "ab9c4a21d2de40afa1e3cf5961353ec2",
       "version_major": 2,
       "version_minor": 0
      },
      "text/plain": [
       "interactive(children=(IntSlider(value=2, description='upper_lim', max=4, min=1), IntText(value=4, description=…"
      ]
     },
     "metadata": {},
     "output_type": "display_data"
    }
   ],
   "source": [
    "filename = \"hej2.obp\"\n",
    "try:    \n",
    "    os.remove(filename)\n",
    "except:\n",
    "    pass\n",
    "\n",
    "rec = Build_Area(island_numbers=[2, 2], midpoint=[0, 0], build_dimensions=[100, 100], margins=[5, 5])\n",
    "lines = rec.melt_islands(density = 0.1, filename = filename)\n",
    "\n",
    "iw.interactive_viewer(lines)"
   ]
  },
  {
   "cell_type": "markdown",
   "metadata": {},
   "source": [
    "## Changing island melting order\n",
    "Adding to powder transport complexity, simply translating the islands isn't always sufficient. When the island melting order is repeated in consecutive layers, the melting process may become so similar over time that it leads to undesired stress and warping. A solution to this issue is to avoid repeating the island melting order for each layer and instead melt the islands in a random order every time. Additionally, the line reversal technique used in the [honeycomb notebook](https://mybinder.org/v2/gh/olofficial/hex-test/main?labpath=honeycomb.ipynb) can be applied here as well.\n",
    "\n",
    "To summarize, the islands will be melted in a random order, and the line direction (right to left or left to right) will also be randomly chosen."
   ]
  },
  {
   "cell_type": "code",
   "execution_count": null,
   "metadata": {},
   "outputs": [],
   "source": [
    "%%add_to Build_Area\n",
    "#calls the melt pattern on each island in a random order\n",
    "def melt_islands(self, density, filename):\n",
    "    lines = []\n",
    "    rnd.shuffle(self.islands)\n",
    "    a = 1\n",
    "    for island in self.islands:\n",
    "        reverse_island = rnd.choice([True, False])\n",
    "        lines = lines + island.place_lines_one_direction(density, filename, reverse_island) #change for different melting pattern\n",
    "    return lines"
   ]
  },
  {
   "cell_type": "code",
   "execution_count": null,
   "metadata": {},
   "outputs": [],
   "source": [
    "%%add_to Island\n",
    "#test pattern, unidirectional beam paths from side to side\n",
    "def place_lines_one_direction(self, density, filename, reverse_island):\n",
    "    # Generate the points on the powder bed\n",
    "    points = self._place_points(density)\n",
    "\n",
    "    # Create the lines based on the points\n",
    "    lines = []\n",
    "    y_range = range(len(points))\n",
    "    bp = obp.Beamparameters(self.spot_size, self.power)\n",
    "    for y in y_range:\n",
    "        lines.append(obp.Line(points[y][0], points[y][-1], self.speed, bp))\n",
    "\n",
    "    # Write the lines to the file\n",
    "    try:\n",
    "        old_obp = obp.read_obp(filename)\n",
    "        new_obp = old_obp + lines\n",
    "        obp.write_obp(new_obp, filename)\n",
    "    except:\n",
    "        obp.write_obp(lines, filename)\n",
    "        \n",
    "    if reverse_island == True:\n",
    "        lines = [obp.Line(line.P2, line.P1, line.Speed, line.bp) for line in reversed(lines)]\n",
    "\n",
    "    return lines"
   ]
  },
  {
   "cell_type": "markdown",
   "metadata": {},
   "source": [
    "An example:"
   ]
  },
  {
   "cell_type": "code",
   "execution_count": null,
   "metadata": {},
   "outputs": [
    {
     "data": {
      "application/vnd.jupyter.widget-view+json": {
       "model_id": "08c78a2029a1433493b56580ced4452d",
       "version_major": 2,
       "version_minor": 0
      },
      "text/plain": [
       "interactive(children=(IntSlider(value=12, description='upper_lim', max=24, min=1), IntText(value=24, descripti…"
      ]
     },
     "metadata": {},
     "output_type": "display_data"
    }
   ],
   "source": [
    "filename = \"hej3.obp\"\n",
    "try:    \n",
    "    os.remove(filename)\n",
    "except:\n",
    "    pass\n",
    "\n",
    "rec = Build_Area(island_numbers=[2, 2], midpoint=[0, 0], build_dimensions=[100, 100], margins=[5, 5])\n",
    "lines = rec.melt_islands(0.1, filename)\n",
    "iw.interactive_viewer(lines)"
   ]
  },
  {
   "cell_type": "markdown",
   "metadata": {},
   "source": [
    "With all this done, the island melting strategy is now implemented using `obplib`. The full code:"
   ]
  },
  {
   "cell_type": "code",
   "execution_count": 12,
   "metadata": {},
   "outputs": [
    {
     "data": {
      "application/vnd.jupyter.widget-view+json": {
       "model_id": "81d8c28dfc004751b0aa262a3dad6081",
       "version_major": 2,
       "version_minor": 0
      },
      "text/plain": [
       "interactive(children=(IntSlider(value=90, description='upper_lim', max=180, min=1), IntText(value=180, descrip…"
      ]
     },
     "metadata": {},
     "output_type": "display_data"
    }
   ],
   "source": [
    "import obplib as obp\n",
    "import os \n",
    "import numpy as np\n",
    "import interactive_viewer as iw\n",
    "import random as rnd\n",
    "\n",
    "#superclass, stores midpoint as cartesian coordinates [x, y]\n",
    "class Shape: \n",
    "    def __init__(self, midpoint):\n",
    "        self.midpoint = midpoint\n",
    "\n",
    "#child class of Shape, stores midpoint as cartesian coordinates and dimensions as measurements in x and y directions\n",
    "class Rectangle(Shape):\n",
    "    def __init__(self, midpoint, dimensions):\n",
    "        super().__init__(midpoint)\n",
    "        self.dimensions = dimensions\n",
    "\n",
    "    #help function to determine whether a point is in a given rectangle defined by its midpoint and dimensions\n",
    "    def _is_in_rectangle(self, point, midpoint, dimensions):\n",
    "        x_min = midpoint[0] - dimensions[0] / 2\n",
    "        x_max = midpoint[0] + dimensions[0] / 2\n",
    "        y_min = midpoint[1] - dimensions[1] / 2\n",
    "        y_max = midpoint[1] + dimensions[1] / 2\n",
    "\n",
    "        return x_min <= point[0] <= x_max and y_min <= point[1] <= y_max\n",
    "    \n",
    "#subclass of Rectangle\n",
    "class Island(Rectangle):\n",
    "    def __init__(self, build_dimensions, build_midpoint, midpoint, dimensions, margins, speed, spot_size, power):\n",
    "        #island attributes\n",
    "        super().__init__(midpoint, np.add(dimensions, np.multiply(margins, 2)))\n",
    "        self.speed = speed #beam speed\n",
    "        self.spot_size = spot_size #beam spot size\n",
    "        self.power = power #beam power\n",
    "        self.margins = margins #margin size as list of length 2 in x and y direction\n",
    "        #build attributes\n",
    "        self.build_dimensions = build_dimensions\n",
    "        self.build_midpoint = build_midpoint\n",
    "    \n",
    "    #places points in a square grid with density as an argument\n",
    "    def _place_points(self, density):\n",
    "        number_of_points = [int(self.dimensions[0] * density), int(self.dimensions[1] * density)]\n",
    "        points = [\n",
    "                    [\n",
    "                    obp.Point(j / density + self.midpoint[0] - self.dimensions[0] / 2, i / density + self.midpoint[1] - self.dimensions[1] / 2) \n",
    "                    for j in range(number_of_points[0] + 1)\n",
    "                            if self._is_in_rectangle([j / density + self.midpoint[0] - self.dimensions[0] / 2, i / density + self.midpoint[1] - self.dimensions[1] / 2], self.build_midpoint, self.build_dimensions)\n",
    "                    ]\n",
    "                    for i in range(number_of_points[1] + 1)\n",
    "        ]\n",
    "        return [ele for ele in points if ele] #return points within the build area\n",
    "    \n",
    "    #test pattern, unidirectional beam paths from side to side\n",
    "    def place_lines_one_direction(self, density, filename, reverse_island):\n",
    "        # Generate the points on the powder bed\n",
    "        points = self._place_points(density)\n",
    "\n",
    "        # Create the lines based on the points\n",
    "        lines = []\n",
    "        y_range = range(len(points))\n",
    "        bp = obp.Beamparameters(self.spot_size, self.power)\n",
    "        for y in y_range:\n",
    "            lines.append(obp.Line(points[y][0], points[y][-1], self.speed, bp))\n",
    "\n",
    "        if reverse_island == True:\n",
    "            lines = [obp.Line(line.P2, line.P1, line.Speed, line.bp) for line in reversed(lines)]\n",
    "        \n",
    "        # Write the lines to the file\n",
    "        try:\n",
    "            old_obp = obp.read_obp(filename)\n",
    "            new_obp = old_obp + lines\n",
    "            obp.write_obp(new_obp, filename)\n",
    "        except:\n",
    "            obp.write_obp(lines, filename)\n",
    "        return lines\n",
    "    \n",
    "#'User interface' class\n",
    "class Build_Area:\n",
    "    def __init__(self, island_numbers, midpoint, build_dimensions, margins):\n",
    "        self.midpoint = midpoint\n",
    "        self.build_dimensions = build_dimensions\n",
    "        self.margins = margins\n",
    "        for i in range(2): #margins can't be larger than the island sizes\n",
    "            if self.margins[i] >= self.build_dimensions[i] / island_numbers[i]:\n",
    "                raise Exception(\"Margin too large!\")\n",
    "        self.islands = self._populate_with_islands(island_numbers)\n",
    "            \n",
    "    #populates the build object with partially overlapping islands\n",
    "    def _populate_with_islands(self, island_numbers):\n",
    "        islands = []\n",
    "        island_dimensions = [ #compute the dimensions of the islands\n",
    "            self.build_dimensions[0] / island_numbers[0],\n",
    "            self.build_dimensions[1] / island_numbers[1],\n",
    "        ]\n",
    "        #compute the midpoint of the islands and populates the grid with islands\n",
    "        for i in range(island_numbers[1]):\n",
    "            for j in range(island_numbers[0]):\n",
    "                island_midpoint = [\n",
    "                    self.midpoint[0] + island_dimensions[0] * (j + 1 / 2) - self.build_dimensions[0] / 2,\n",
    "                    self.midpoint[1] +  island_dimensions[1] * (i  + 1 / 2) - self.build_dimensions[1] / 2\n",
    "                ]\n",
    "                islands.append(Island(self.build_dimensions, self.midpoint, island_midpoint, island_dimensions, self.margins, speed = 100, spot_size = 100, power = 100))\n",
    "        return [ele for ele in islands if ele]\n",
    "    \n",
    "    #calls the melt pattern on each island in a random order\n",
    "    def melt_islands(self, density, filename):\n",
    "        try:    \n",
    "            os.remove(filename)\n",
    "        except:\n",
    "            pass\n",
    "        lines = []\n",
    "        rnd.shuffle(self.islands)\n",
    "        for island in self.islands:\n",
    "            reverse_island = rnd.choice([True, False])\n",
    "            lines = lines + island.place_lines_one_direction(density, filename, reverse_island) #change for different melting pattern\n",
    "        return lines\n",
    "\n",
    "#code example \n",
    "filename = \"island.obp\"\n",
    "\n",
    "rec = Build_Area(island_numbers=[10, 10], midpoint=[0, 0], build_dimensions=[100, 100], margins=[5, 5])\n",
    "lines = rec.melt_islands(0.05, filename)\n",
    "iw.interactive_viewer(lines)"
   ]
  }
 ],
 "metadata": {
  "kernelspec": {
   "display_name": "Python 3",
   "language": "python",
   "name": "python3"
  },
  "language_info": {
   "codemirror_mode": {
    "name": "ipython",
    "version": 3
   },
   "file_extension": ".py",
   "mimetype": "text/x-python",
   "name": "python",
   "nbconvert_exporter": "python",
   "pygments_lexer": "ipython3",
   "version": "3.11.4"
  },
  "orig_nbformat": 4
 },
 "nbformat": 4,
 "nbformat_minor": 2
}

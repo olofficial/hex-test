{
 "cells": [
  {
   "cell_type": "markdown",
   "metadata": {},
   "source": [
    "# Transformations of `obp` objects\n",
    "\n"
   ]
  },
  {
   "cell_type": "code",
   "execution_count": 11,
   "metadata": {},
   "outputs": [],
   "source": [
    "import obplib as obp\n",
    "import notebook_viewer as nw\n",
    "import numpy as np"
   ]
  },
  {
   "cell_type": "markdown",
   "metadata": {},
   "source": [
    "## Creating a sample line"
   ]
  },
  {
   "cell_type": "code",
   "execution_count": 12,
   "metadata": {},
   "outputs": [
    {
     "data": {
      "application/vnd.jupyter.widget-view+json": {
       "model_id": "7b4b23c619c74187b6e2bc235d83f485",
       "version_major": 2,
       "version_minor": 0
      },
      "text/plain": [
       "interactive(children=(IntSlider(value=1, description='upper_lim', max=1, min=1), IntText(value=1, description=…"
      ]
     },
     "metadata": {},
     "output_type": "display_data"
    }
   ],
   "source": [
    "point_1 = [0, 0]\n",
    "point_2 = [0, 1]\n",
    "\n",
    "point_list = [obp.Point(point_1[0], point_1[1]), obp.Point(point_2[0], point_2[1])]\n",
    "\n",
    "line = [obp.Line(point_list[0], point_list[1], Speed = 100, bp = obp.Beamparameters(100, 100))]\n",
    "\n",
    "nw.notebook_viewer(line)"
   ]
  },
  {
   "cell_type": "markdown",
   "metadata": {},
   "source": [
    "## Rotating objects with `obp.rotate`\n",
    "bla bla\n",
    "\n",
    "Now let's rotate `line` 90 degrees (or $\\pi/2$ radians) around the origin: "
   ]
  },
  {
   "cell_type": "code",
   "execution_count": 13,
   "metadata": {},
   "outputs": [
    {
     "data": {
      "application/vnd.jupyter.widget-view+json": {
       "model_id": "c1d33c38c5164eb6bda809b5f0537c61",
       "version_major": 2,
       "version_minor": 0
      },
      "text/plain": [
       "interactive(children=(IntSlider(value=1, description='upper_lim', max=1, min=1), IntText(value=1, description=…"
      ]
     },
     "metadata": {},
     "output_type": "display_data"
    }
   ],
   "source": [
    "line_rot = obp.rotate(line, np.pi / 2)\n",
    "nw.notebook_viewer(line_rot)"
   ]
  },
  {
   "cell_type": "markdown",
   "metadata": {},
   "source": [
    "## Translating objects using `translate`\n",
    "`obplib` objects can be translated using the `translate` method, which has the object itself, as well as a position vector in the form of a `Point` object as arguments. An example:"
   ]
  },
  {
   "cell_type": "code",
   "execution_count": 14,
   "metadata": {},
   "outputs": [
    {
     "data": {
      "application/vnd.jupyter.widget-view+json": {
       "model_id": "6ed0187e6c9c442f85f60ad257682087",
       "version_major": 2,
       "version_minor": 0
      },
      "text/plain": [
       "interactive(children=(IntSlider(value=1, description='upper_lim', max=2, min=1), IntText(value=2, description=…"
      ]
     },
     "metadata": {},
     "output_type": "display_data"
    }
   ],
   "source": [
    "translation_vector = obp.Point(1, 1)\n",
    "translated_vs_regular = line + obp.translate(line, translation_vector)\n",
    "nw.notebook_viewer(translated_vs_regular)"
   ]
  },
  {
   "cell_type": "markdown",
   "metadata": {},
   "source": [
    "## Scaling objects with `scale`\n",
    "Scaling objects is a convenient way to refactor a build object without having to change much in the code.\n",
    "\n",
    "An example:"
   ]
  },
  {
   "cell_type": "code",
   "execution_count": 15,
   "metadata": {},
   "outputs": [
    {
     "ename": "AttributeError",
     "evalue": "module 'notebook_viewer' has no attribute 'interactive_viewer'",
     "output_type": "error",
     "traceback": [
      "\u001b[1;31m---------------------------------------------------------------------------\u001b[0m",
      "\u001b[1;31mAttributeError\u001b[0m                            Traceback (most recent call last)",
      "\u001b[1;32m~\\AppData\\Local\\Temp\\ipykernel_18876\\1148171054.py\u001b[0m in \u001b[0;36m<cell line: 0>\u001b[1;34m()\u001b[0m\n\u001b[0;32m      2\u001b[0m \u001b[0mscaled_line\u001b[0m \u001b[1;33m=\u001b[0m \u001b[0mobp\u001b[0m\u001b[1;33m.\u001b[0m\u001b[0mscale\u001b[0m\u001b[1;33m(\u001b[0m\u001b[0mline\u001b[0m\u001b[1;33m,\u001b[0m \u001b[1;36m2\u001b[0m\u001b[1;33m)\u001b[0m\u001b[1;33m\u001b[0m\u001b[1;33m\u001b[0m\u001b[0m\n\u001b[0;32m      3\u001b[0m \u001b[0munscaled_scaled_comparison\u001b[0m \u001b[1;33m=\u001b[0m \u001b[0mline\u001b[0m \u001b[1;33m+\u001b[0m \u001b[0mobp\u001b[0m\u001b[1;33m.\u001b[0m\u001b[0mtranslate\u001b[0m\u001b[1;33m(\u001b[0m\u001b[0mscaled_line\u001b[0m\u001b[1;33m,\u001b[0m \u001b[0mtranslation_vector\u001b[0m\u001b[1;33m)\u001b[0m\u001b[1;33m\u001b[0m\u001b[1;33m\u001b[0m\u001b[0m\n\u001b[1;32m----> 4\u001b[1;33m \u001b[0mnw\u001b[0m\u001b[1;33m.\u001b[0m\u001b[0minteractive_viewer\u001b[0m\u001b[1;33m(\u001b[0m\u001b[0munscaled_scaled_comparison\u001b[0m\u001b[1;33m)\u001b[0m\u001b[1;33m\u001b[0m\u001b[1;33m\u001b[0m\u001b[0m\n\u001b[0m",
      "\u001b[1;31mAttributeError\u001b[0m: module 'notebook_viewer' has no attribute 'interactive_viewer'"
     ]
    }
   ],
   "source": [
    "translation_vector = obp.Point(1, 0)\n",
    "scaled_line = obp.scale(line, 2)\n",
    "unscaled_scaled_comparison = line + obp.translate(scaled_line, translation_vector)\n",
    "nw.notebook_viewer(unscaled_scaled_comparison)"
   ]
  },
  {
   "cell_type": "markdown",
   "metadata": {},
   "source": [
    "# Example - Spiral melting pattern\n",
    "In this example, a spiralesque melting pattern is created by starting with the sample line, then iteratively translating, rotating and scaling it."
   ]
  },
  {
   "cell_type": "code",
   "execution_count": null,
   "metadata": {},
   "outputs": [
    {
     "data": {
      "application/vnd.jupyter.widget-view+json": {
       "model_id": "8660a20f48a54d4d91253f56d7204dce",
       "version_major": 2,
       "version_minor": 0
      },
      "text/plain": [
       "interactive(children=(IntSlider(value=50, description='upper_lim', min=1), IntText(value=100, description='Max…"
      ]
     },
     "metadata": {},
     "output_type": "display_data"
    }
   ],
   "source": [
    "lines = []\n",
    "\n",
    "for i in range(100):\n",
    "    scale = 1 / (1 * (i + 1))\n",
    "    translation = obp.Point(scale, scale)\n",
    "    \n",
    "    translated_line = obp.translate(line, translation)\n",
    "    rotated_line = obp.rotate(translated_line, i * 0.2)\n",
    "    scaled_line = obp.scale(rotated_line, scale)\n",
    "    lines.extend(obp.translate(scaled_line, translation))\n",
    "\n",
    "nw.notebook_viewer(lines)"
   ]
  }
 ],
 "metadata": {
  "kernelspec": {
   "display_name": "Python 3",
   "language": "python",
   "name": "python3"
  },
  "language_info": {
   "codemirror_mode": {
    "name": "ipython",
    "version": 3
   },
   "file_extension": ".py",
   "mimetype": "text/x-python",
   "name": "python",
   "nbconvert_exporter": "python",
   "pygments_lexer": "ipython3",
   "version": "3.11.4"
  },
  "orig_nbformat": 4
 },
 "nbformat": 4,
 "nbformat_minor": 2
}

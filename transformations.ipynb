{
 "cells": [
  {
   "cell_type": "markdown",
   "metadata": {},
   "source": [
    "# Transformations of `obp` objects\n",
    "\n"
   ]
  },
  {
   "cell_type": "code",
   "execution_count": 9,
   "metadata": {},
   "outputs": [],
   "source": [
    "import obplib as obp\n",
    "import interactive_viewer as iw\n",
    "import numpy as np"
   ]
  },
  {
   "cell_type": "markdown",
   "metadata": {},
   "source": [
    "## Creating a sample line"
   ]
  },
  {
   "cell_type": "code",
   "execution_count": 10,
   "metadata": {},
   "outputs": [
    {
     "data": {
      "application/vnd.jupyter.widget-view+json": {
       "model_id": "49f333a4c04b4f56b82a9571600473c3",
       "version_major": 2,
       "version_minor": 0
      },
      "text/plain": [
       "interactive(children=(IntSlider(value=1, description='upper_lim', max=1, min=1), IntText(value=1, description=…"
      ]
     },
     "metadata": {},
     "output_type": "display_data"
    }
   ],
   "source": [
    "point_1 = [0, 0]\n",
    "point_2 = [0, 1]\n",
    "\n",
    "point_list = [obp.Point(point_1[0], point_1[1]), obp.Point(point_2[0], point_2[1])]\n",
    "\n",
    "line = [obp.Line(point_list[0], point_list[1], Speed = 100, bp = obp.Beamparameters(100, 100))]\n",
    "\n",
    "iw.interactive_viewer(line)"
   ]
  },
  {
   "cell_type": "markdown",
   "metadata": {},
   "source": [
    "## Rotating objects with `obp.rotate`\n",
    "bla bla\n",
    "\n",
    "Now let's rotate `line` 180 degrees (or $\\pi$ radians) around the origin: \n",
    "\n",
    "## PRATA MED PHILIP/DANIEL"
   ]
  },
  {
   "cell_type": "code",
   "execution_count": 11,
   "metadata": {},
   "outputs": [
    {
     "data": {
      "application/vnd.jupyter.widget-view+json": {
       "model_id": "1753cf8f683c47c3a368678e08531db0",
       "version_major": 2,
       "version_minor": 0
      },
      "text/plain": [
       "interactive(children=(IntSlider(value=1, description='upper_lim', max=1, min=1), IntText(value=1, description=…"
      ]
     },
     "metadata": {},
     "output_type": "display_data"
    }
   ],
   "source": [
    "line_rot = obp.rotate(line, np.pi)\n",
    "iw.interactive_viewer(line_rot)"
   ]
  },
  {
   "cell_type": "markdown",
   "metadata": {},
   "source": []
  },
  {
   "cell_type": "code",
   "execution_count": null,
   "metadata": {},
   "outputs": [],
   "source": []
  },
  {
   "cell_type": "markdown",
   "metadata": {},
   "source": [
    "## Translating objects using `translate`\n",
    "`obplib` objects can be translated using the `translate` method, which has the object itself, as well as a position vector in the form of a `Point` object as arguments. An example:"
   ]
  },
  {
   "cell_type": "code",
   "execution_count": 16,
   "metadata": {},
   "outputs": [
    {
     "data": {
      "application/vnd.jupyter.widget-view+json": {
       "model_id": "42c06474e4f043d8825fe373dbc0baae",
       "version_major": 2,
       "version_minor": 0
      },
      "text/plain": [
       "interactive(children=(IntSlider(value=1, description='upper_lim', max=2, min=1), IntText(value=2, description=…"
      ]
     },
     "metadata": {},
     "output_type": "display_data"
    }
   ],
   "source": [
    "translation_vector = obp.Point(1, 1)\n",
    "translated_vs_regular = line + obp.translate(line, translation_vector)\n",
    "iw.interactive_viewer(translated_vs_regular)"
   ]
  },
  {
   "cell_type": "markdown",
   "metadata": {},
   "source": [
    "## Scaling objects with `scale`\n",
    "ANVÄNDNINGSOMRÅDE\n",
    "\n",
    "An example:"
   ]
  },
  {
   "cell_type": "code",
   "execution_count": 18,
   "metadata": {},
   "outputs": [
    {
     "data": {
      "application/vnd.jupyter.widget-view+json": {
       "model_id": "ddb2465d3d424264b12d05b26ee9ff88",
       "version_major": 2,
       "version_minor": 0
      },
      "text/plain": [
       "interactive(children=(IntSlider(value=1, description='upper_lim', max=2, min=1), IntText(value=2, description=…"
      ]
     },
     "metadata": {},
     "output_type": "display_data"
    }
   ],
   "source": [
    "translation_vector = obp.Point(1, 0)\n",
    "scaled_line = obp.scale(line, 2)\n",
    "unscaled_scaled_comparison = line + obp.translate(scaled_line, translation_vector)\n",
    "iw.interactive_viewer(unscaled_scaled_comparison)"
   ]
  },
  {
   "cell_type": "markdown",
   "metadata": {},
   "source": [
    "# Example - Spiral melting pattern\n",
    "In this example, a spiralesque melting pattern is created by starting with the sample line, then iteratively translating, rotating and scaling it."
   ]
  },
  {
   "cell_type": "code",
   "execution_count": 40,
   "metadata": {},
   "outputs": [
    {
     "data": {
      "application/vnd.jupyter.widget-view+json": {
       "model_id": "8660a20f48a54d4d91253f56d7204dce",
       "version_major": 2,
       "version_minor": 0
      },
      "text/plain": [
       "interactive(children=(IntSlider(value=50, description='upper_lim', min=1), IntText(value=100, description='Max…"
      ]
     },
     "metadata": {},
     "output_type": "display_data"
    }
   ],
   "source": [
    "lines = []\n",
    "\n",
    "for i in range(100):\n",
    "    scale = 1 / (1 * (i + 1))\n",
    "    translation = obp.Point(scale, scale)\n",
    "    \n",
    "    translated_line = obp.translate(line, translation)\n",
    "    rotated_line = obp.rotate(translated_line, i * 0.2)\n",
    "    scaled_line = obp.scale(rotated_line, scale)\n",
    "    lines.extend(obp.translate(scaled_line, translation))\n",
    "\n",
    "iw.interactive_viewer(lines)"
   ]
  }
 ],
 "metadata": {
  "kernelspec": {
   "display_name": "Python 3",
   "language": "python",
   "name": "python3"
  },
  "language_info": {
   "codemirror_mode": {
    "name": "ipython",
    "version": 3
   },
   "file_extension": ".py",
   "mimetype": "text/x-python",
   "name": "python",
   "nbconvert_exporter": "python",
   "pygments_lexer": "ipython3",
   "version": "3.11.4"
  },
  "orig_nbformat": 4
 },
 "nbformat": 4,
 "nbformat_minor": 2
}

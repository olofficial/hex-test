{
 "cells": [
  {
   "cell_type": "markdown",
   "metadata": {},
   "source": [
    "# Introduction to line melting <img align=\"right\" width=\"192\" height=\"64\" src=\"https://freemelt.com/app/uploads/freemeltLogo-1.png\">"
   ]
  },
  {
   "cell_type": "markdown",
   "metadata": {},
   "source": [
    "Electron beam manufacturing offers various melting patterns, with line melting, where the electron beam is traversed in straight or curved lines, being a common approach. Freemelt follows this tradition, using line melting as a foundational technique. \n",
    "\n",
    "This guide in four parts will showcase how Freemelt simplifies the build file creation with useful open source line melting tools, beginning with the most foundational elements and finishing with the advanced resources. In this introductory part, the most basic concepts such as `Point`'s, `Line`'s and `.obp` file creation will be explored.\n",
    "\n",
    "Freemelt has an open source approach at its core. This includes the build file creation using Python, which is done using the Open Beam Path library `obplib`, the documentation for which may be found [here](https://gitlab.com/freemelt/openmelt/obplib-python/-/tree/master/obplib). \n",
    "\n",
    "This notebook can be run on MyBinder or locally. If running locally, additional steps are needed to download necessary libraries. Certain cells are marked and commented for local runs; uncomment them to utilize the notebook fully. \n",
    "\n",
    "Assuming Python is installed and environmental variables are configured correctly, install `obplib` with the following command:"
   ]
  },
  {
   "cell_type": "code",
   "execution_count": 1,
   "metadata": {},
   "outputs": [],
   "source": [
    "#uncomment this cell if running locally\n",
    "#%%capture\n",
    "#%pip install obplib"
   ]
  },
  {
   "cell_type": "markdown",
   "metadata": {},
   "source": [
    "Importing the necessary libraries:"
   ]
  },
  {
   "cell_type": "code",
   "execution_count": 2,
   "metadata": {},
   "outputs": [],
   "source": [
    "import obplib as obp\n",
    "\n",
    "#utility packages\n",
    "import os\n",
    "import notebook_viewer as nw "
   ]
  },
  {
   "cell_type": "markdown",
   "metadata": {},
   "source": [
    "The fundamental building block of `obplib` line melting is the `Point` object. \n",
    "The `Point` object has two attributes, `x` and `y`, representing the x-coordinate and y-coordinate of the point, respectively. In the following example, a `Point` object is initialized, with its `x` and `y` attributes accessed and printed.\n",
    "\n",
    "### Example - `Point` object"
   ]
  },
  {
   "cell_type": "code",
   "execution_count": 3,
   "metadata": {},
   "outputs": [
    {
     "name": "stdout",
     "output_type": "stream",
     "text": [
      "x =  1 , y =  2\n"
     ]
    }
   ],
   "source": [
    "x = 1\n",
    "y = 2\n",
    "point = obp.Point(x, y) #initializes Point\n",
    "print(\"x = \", point.x, \", y = \", point.y) #accesses and prints Point attributes"
   ]
  },
  {
   "cell_type": "markdown",
   "metadata": {},
   "source": [
    "`Point` objects can't do much on their own; their usefulness lies in being reference points for the line melting. To perform line melting between two points, the `Line` object is used.\n",
    "\n",
    "The `Line` object has several attributes:\n",
    "1. `P1` and `P2` are `Point` objects who represent the start and end points of the line.\n",
    "2. `Speed` is an integer that denotes the beam traverse speed in micrometers/second. \n",
    "3. `bp` is a `obp.BeamParameters` object that stores the spot size (line thickness) in micrometers and the beam power in Watts.\n",
    "\n",
    "### Example - `Line` object"
   ]
  },
  {
   "cell_type": "code",
   "execution_count": 4,
   "metadata": {},
   "outputs": [
    {
     "name": "stdout",
     "output_type": "stream",
     "text": [
      "[{\n",
      "  \"line\": {\n",
      "    \"params\": {\n",
      "      \"spotSize\": 100.0,\n",
      "      \"beamPower\": 100.0\n",
      "    },\n",
      "    \"x0\": 1.0,\n",
      "    \"y0\": 2.0,\n",
      "    \"x1\": 3.0,\n",
      "    \"y1\": 3.0,\n",
      "    \"speed\": \"100\"\n",
      "  }\n",
      "}]\n"
     ]
    }
   ],
   "source": [
    "r_0 = [1, 2] #gathers the coordinates of the previous example into a position vector\n",
    "r_1 = [3, 3] #another position vector\n",
    "\n",
    "#initializing Point objects \n",
    "point_0 = obp.Point(r_0[0], r_0[1])\n",
    "point_1 = obp.Point(r_1[0], r_1[1])\n",
    "\n",
    "#setting speed and beam parameters\n",
    "speed = 100 #beam traverse speed, micrometers per second\n",
    "spot_size = 100 #spot diameter, micrometers\n",
    "power = 100 #beam power, Watts\n",
    "beam_parameters = obp.Beamparameters(spot_size, power) #object that stores spot size and power\n",
    "\n",
    "line = [obp.Line(P1 = point_0, P2 = point_1, Speed = speed, bp = beam_parameters)]\n",
    "print(line)"
   ]
  },
  {
   "cell_type": "markdown",
   "metadata": {},
   "source": [
    "This line, as well as any collection of lines, can be stored using the `.obp` file format. VAD ÄR EN OBPFIL??\n",
    "\n",
    "Saving a `.obp` file is done using the `obp.write_obp` method. It takes a **list** of `obplib` objects (not `obplib` objects by themselves) and saves them into a `.obp` melt file. \n",
    "\n",
    "Saving the line from the previous example:"
   ]
  },
  {
   "cell_type": "code",
   "execution_count": 5,
   "metadata": {},
   "outputs": [],
   "source": [
    "filename = \"single_line.obp\"\n",
    "obp.write_obp(line, filename)"
   ]
  },
  {
   "cell_type": "markdown",
   "metadata": {},
   "source": [
    "To view `.obp` files, there is `obpviewer`, an interactive GUI that displays lines. It can be used when running this workbook, or any Python code, on the user's computer. However, due to the fact that servers don't have screens, `obpviewer` is hard to get to work with MyBinder. A lightweight alternative called `notebook_viewer` has been developed for this."
   ]
  },
  {
   "cell_type": "code",
   "execution_count": 6,
   "metadata": {},
   "outputs": [
    {
     "data": {
      "application/vnd.jupyter.widget-view+json": {
       "model_id": "ca2d6800506347e2b0d672035ac9814c",
       "version_major": 2,
       "version_minor": 0
      },
      "text/plain": [
       "interactive(children=(IntSlider(value=1, description='upper_lim', max=1, min=1), IntText(value=1, description=…"
      ]
     },
     "metadata": {},
     "output_type": "display_data"
    }
   ],
   "source": [
    "#! obpviewer \"test.py\" #comment this line out if running on MyBinder\n",
    "nw.notebook_viewer(objects = line) #comment this line out if running on computer"
   ]
  },
  {
   "cell_type": "markdown",
   "metadata": {},
   "source": [
    "## Example - Square\n",
    "To end this guide, a square with varying parameters centered in the origin will be created and displayed:"
   ]
  },
  {
   "cell_type": "code",
   "execution_count": 7,
   "metadata": {},
   "outputs": [],
   "source": [
    "import contextlib\n",
    "line_length = 1000 #1000 micrometer line length\n",
    "#using list comprehension to create the coordinate list\n",
    "coordinate_list = [\n",
    "    [\n",
    "        (x - 1/2) * line_length, \n",
    "        (y - 1/2) * line_length\n",
    "    ] \n",
    "    for x in range(2) for y in range(2)\n",
    "]\n",
    "point_list = [\n",
    "    obp.Point(coordinate_list[i][0], coordinate_list[i][1]) for i in range(4)\n",
    "]\n",
    "\n",
    "#setting speed and beam parameters\n",
    "speed = [100, 200, 300, 400] #beam traverse speed, micrometers per second\n",
    "spot_size = [100, 200, 300, 400] #spot diameter, micrometers\n",
    "power = 100 #beam power, Watts\n",
    "beam_parameters = [obp.Beamparameters(spot_size[i], power) for i in range(4)] #object that stores spot size and power\n",
    "\n",
    "line_list = [\n",
    "    obp.Line(point_list[0], point_list[1], speed[0], beam_parameters[0]),\n",
    "    obp.Line(point_list[1], point_list[3], speed[1], beam_parameters[1]),\n",
    "    obp.Line(point_list[3], point_list[2], speed[2], beam_parameters[2]),\n",
    "    obp.Line(point_list[2], point_list[0], speed[3], beam_parameters[3]),\n",
    "]\n",
    "\n",
    "filename = \"square.obp\"\n",
    "with contextlib.suppress(Exception):\n",
    "    os.remove(filename)\n",
    "\n",
    "obp.write_obp(line_list, filename)"
   ]
  },
  {
   "cell_type": "code",
   "execution_count": 8,
   "metadata": {},
   "outputs": [
    {
     "data": {
      "application/vnd.jupyter.widget-view+json": {
       "model_id": "50235030af1d4b309533a33566e39e76",
       "version_major": 2,
       "version_minor": 0
      },
      "text/plain": [
       "interactive(children=(IntSlider(value=2, description='upper_lim', max=4, min=1), IntText(value=4, description=…"
      ]
     },
     "metadata": {},
     "output_type": "display_data"
    }
   ],
   "source": [
    "import obplib as obp\n",
    "import jdc #utility package for this guide\n",
    "\n",
    "#! obpviewer \"test.py\" #comment this line out if running on MyBinder\n",
    "nw.notebook_viewer(line_list) #comment this line out if running on computer"
   ]
  }
 ],
 "metadata": {
  "kernelspec": {
   "display_name": "Python 3",
   "language": "python",
   "name": "python3"
  },
  "language_info": {
   "codemirror_mode": {
    "name": "ipython",
    "version": 3
   },
   "file_extension": ".py",
   "mimetype": "text/x-python",
   "name": "python",
   "nbconvert_exporter": "python",
   "pygments_lexer": "ipython3",
   "version": "3.11.4"
  },
  "orig_nbformat": 4
 },
 "nbformat": 4,
 "nbformat_minor": 2
}

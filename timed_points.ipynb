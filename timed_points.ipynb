{
 "cells": [
  {
   "cell_type": "markdown",
   "metadata": {},
   "source": [
    "# Timed points <img align=\"right\" width=\"192\" height=\"64\" src=\"https://freemelt.com/app/uploads/freemeltLogo-1.png\">\n",
    "Up until this point, line melting has been the basis of all guides. However, `obplib` has the capability of spot melting as well. There are multiple reasons for spot melting, many of which are summarized here (LINK)."
   ]
  },
  {
   "cell_type": "code",
   "execution_count": 1,
   "metadata": {},
   "outputs": [],
   "source": [
    "import obplib as obp\n",
    "import interactive_viewer as iw\n",
    "\n",
    "#libraries for this guide\n",
    "import random as rnd\n",
    "import os"
   ]
  },
  {
   "cell_type": "markdown",
   "metadata": {},
   "source": [
    "## The `TimedPoints` object\n",
    "The `obp.TimedPoints` object has three attributes:\n",
    "1. `points` is a list of `Point` objects. These contain the coordinates of each spot to be melted.\n",
    "2. `dwellTimes` is a list of the same length as `points`. These denote the time (integer) that the beam stays on each spot, meaning how much energy is deposited into the powder at that location. These can either be individually set to correspond to each `Point` object:\n",
    "if `object.points = [point_1, point_2, point_3]` then `object.dwellTimes = [dwell_time_1, dwell_time_2, dwell_time_3]`. Alternatively, if all `Point`'s should have the same `dwell_time`, then `object.dwellTimes = [dwell_time_constant, 0, 0]`.\n",
    "3. `bp` is the same `obp.Beamparameters` object that all other `obplib` objects share. "
   ]
  },
  {
   "cell_type": "markdown",
   "metadata": {},
   "source": [
    "### Example - Four points\n",
    "In this example, four `Point` objects are initialized in a 2 $\\times$ 2 grid. Corresponding dwell times are created and a `TimedPoints` object is created, then plotted."
   ]
  },
  {
   "cell_type": "code",
   "execution_count": 2,
   "metadata": {},
   "outputs": [
    {
     "data": {
      "application/vnd.jupyter.widget-view+json": {
       "model_id": "f51efab5f16840a1b214ccf441250979",
       "version_major": 2,
       "version_minor": 0
      },
      "text/plain": [
       "interactive(children=(IntSlider(value=2, description='upper_lim', max=4, min=1), IntText(value=4, description=…"
      ]
     },
     "metadata": {},
     "output_type": "display_data"
    }
   ],
   "source": [
    "points = [obp.Point(i, j) for i in range(2) for j in range(2)] #initialize points\n",
    "dwell_times = [100 * (i + 1) for i in range(len(points))]\n",
    "bp = obp.Beamparameters(1000, 100)\n",
    "obj = [obp.TimedPoints(points, dwell_times, bp)]\n",
    "iw.interactive_viewer(obj)\n"
   ]
  },
  {
   "cell_type": "markdown",
   "metadata": {},
   "source": [
    "If constant dwell times for a number of points are desired, the dwell_time list can conveniently be defined as\n",
    "\n",
    "`dwell_time = [dwell_time_const, 0, 0, ..., 0]`, like so:"
   ]
  },
  {
   "cell_type": "code",
   "execution_count": 3,
   "metadata": {},
   "outputs": [
    {
     "data": {
      "application/vnd.jupyter.widget-view+json": {
       "model_id": "51ea0ec5b4344ba892ce60eee7615b8c",
       "version_major": 2,
       "version_minor": 0
      },
      "text/plain": [
       "interactive(children=(IntSlider(value=2, description='upper_lim', max=4, min=1), IntText(value=4, description=…"
      ]
     },
     "metadata": {},
     "output_type": "display_data"
    }
   ],
   "source": [
    "points_2 = points #reuse points from previous example\n",
    "#define dwell times\n",
    "dwell_time_const = 500\n",
    "dwell_times_2 = [dwell_time_const, 0, 0, 0]\n",
    "#or, using list comprehension (more flexible)\n",
    "dwell_times_2 = [dwell_time_const if i == 0 else 0 for i in range(len(points))]\n",
    "obj_2 =[obp.TimedPoints(points_2, dwell_times_2, bp)] #reuse BeamParameters from previous example\n",
    "iw.interactive_viewer(obj_2)"
   ]
  },
  {
   "cell_type": "markdown",
   "metadata": {},
   "source": [
    "## Randomized Spot Melting\n",
    "Randomizing the melting pattern of a material is an effective way to homogenize it and prevent the formation of internal structures caused by repetitive melting. For this purpose, spot melting is a commonly employed technique, and when it comes to random melting strategies, spot melting is particularly suitable due to its straightforward implementation. Freemelt's Pixelmelt service offers a self-contained solution to achieve random spot melting for materials of any shape.\n",
    "\n",
    "### Example - Random Spot Melting of a Rectangle\n",
    "Let's consider a simple example of random spot melting applied to a rectangle. The first step is to define the rectangle and then divide it into a grid of `Point` objects. Subsequently, the list containing these points is shuffled randomly, and a TimedPoints object is initialized, where each point has an associated random dwell time. The results are then visualized.\n"
   ]
  },
  {
   "cell_type": "code",
   "execution_count": 4,
   "metadata": {},
   "outputs": [
    {
     "data": {
      "application/vnd.jupyter.widget-view+json": {
       "model_id": "7197ae0bbbd3482cb70ac5e54cf86623",
       "version_major": 2,
       "version_minor": 0
      },
      "text/plain": [
       "interactive(children=(IntSlider(value=100, description='upper_lim', max=200, min=1), IntText(value=200, descri…"
      ]
     },
     "metadata": {},
     "output_type": "display_data"
    }
   ],
   "source": [
    "filename = 'random_timed_points.obp'\n",
    "\n",
    "try:    \n",
    "    os.remove(filename)\n",
    "except:\n",
    "    pass\n",
    "\n",
    "rectangle_dimensions = [200, 100]\n",
    "rectangle_midpoint = [0, 0]\n",
    "point_list = []\n",
    "\n",
    "point_density = 0.1 #number of points per micrometer\n",
    "number_of_points = [int(rectangle_dimensions[0] * point_density), int(rectangle_dimensions[1] * point_density)] #number of points in each dimension\n",
    "\n",
    "#populate point_list\n",
    "for i in range(number_of_points[0]):\n",
    "    for j in range(number_of_points[1]):\n",
    "        x = rectangle_midpoint[0] - rectangle_dimensions[0] / 2 + i * rectangle_dimensions[0] / number_of_points[0]\n",
    "        y = rectangle_midpoint[1] - rectangle_dimensions[1] / 2 + j * rectangle_dimensions[1] / number_of_points[1]\n",
    "        point_list.append(obp.Point(x, y))\n",
    "\n",
    "rnd.shuffle(point_list) #shuffles the point list\n",
    "\n",
    "dwell_times  = [int(50 + rnd.random() * 100) for _ in range(len(point_list))] #uniformly random dwell times between 50 and 150 microseconds\n",
    "#dwell_time_const = 100\n",
    "#dwell_times = [dwell_time_const if i == 0 else 0 for i in range(len(point_list))] #constant dwell time, uncomment to test\n",
    "bp = obp.Beamparameters(1000, 100) #create beam parameters\n",
    "\n",
    "obj = [obp.TimedPoints(point_list, dwell_times, bp)]\n",
    "obp.write_obp(obj, filename) #save .obp file\n",
    "\n",
    "iw.interactive_viewer(obj)\n"
   ]
  }
 ],
 "metadata": {
  "kernelspec": {
   "display_name": "Python 3",
   "language": "python",
   "name": "python3"
  },
  "language_info": {
   "codemirror_mode": {
    "name": "ipython",
    "version": 3
   },
   "file_extension": ".py",
   "mimetype": "text/x-python",
   "name": "python",
   "nbconvert_exporter": "python",
   "pygments_lexer": "ipython3",
   "version": "3.11.4"
  },
  "orig_nbformat": 4
 },
 "nbformat": 4,
 "nbformat_minor": 2
}

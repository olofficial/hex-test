{
 "cells": [
  {
   "cell_type": "markdown",
   "metadata": {},
   "source": [
    "# Build file creation of cubes <img align=\"right\" width=\"192\" height=\"64\" src=\"https://freemelt.com/app/uploads/freemeltLogo-1.png\">\n",
    "\n",
    "When developing parameters and settings for Electron Beam Manufacturing, it's often desirable to build several objects at once to shorten developing time. Usually, this is done by placing cubes in a grid, melting them once at a time. \n",
    "\n",
    "Importing the necessary libraries:"
   ]
  },
  {
   "cell_type": "code",
   "execution_count": 35,
   "metadata": {},
   "outputs": [],
   "source": [
    "import obplib as obp\n",
    "import os\n",
    "import interactive_viewer as iw\n",
    "import random as rand"
   ]
  },
  {
   "cell_type": "markdown",
   "metadata": {},
   "source": []
  },
  {
   "cell_type": "code",
   "execution_count": 36,
   "metadata": {},
   "outputs": [],
   "source": [
    "class Cube:\n",
    "    def __init__(self, midpoint, dimensions, speed, spot_size, power):\n",
    "        self.midpoint = midpoint\n",
    "        self.dimensions = dimensions\n",
    "        self.speed = speed\n",
    "        self.spot_size = spot_size\n",
    "        self.power = power"
   ]
  },
  {
   "cell_type": "markdown",
   "metadata": {},
   "source": []
  },
  {
   "cell_type": "code",
   "execution_count": 37,
   "metadata": {},
   "outputs": [],
   "source": [
    "%%add_to Cube\n",
    "\n",
    "def _place_points(self, density):\n",
    "    number_of_points = [int(self.dimensions[0] * density), int(self.dimensions[1] * density)]\n",
    "    points = [\n",
    "                [\n",
    "                obp.Point(j / density + self.midpoint[0] - self.dimensions[0] / 2, i / density + self.midpoint[1] - self.dimensions[1] / 2) \n",
    "                for j in range(number_of_points[0] + 1)\n",
    "                ]\n",
    "                for i in range(number_of_points[1] + 1)\n",
    "    ]\n",
    "    return [ele for ele in points if ele] #return points within the build area"
   ]
  },
  {
   "cell_type": "markdown",
   "metadata": {},
   "source": []
  },
  {
   "cell_type": "code",
   "execution_count": 38,
   "metadata": {},
   "outputs": [],
   "source": [
    "%%add_to Cube\n",
    "def place_lines_one_direction(self, density, filename, reverse):\n",
    "    # Generate the points on the powder bed\n",
    "    points = self._place_points(density)\n",
    "\n",
    "    # Create the lines based on the points\n",
    "    lines = []\n",
    "    y_range = range(len(points))\n",
    "    bp = obp.Beamparameters(self.spot_size, self.power)\n",
    "    for y in y_range:\n",
    "        lines.append(obp.Line(points[y][0], points[y][-1], self.speed, bp))\n",
    "\n",
    "    # Write the lines to the file\n",
    "    try:\n",
    "        old_obp = obp.read_obp(filename)\n",
    "        new_obp = old_obp + lines\n",
    "        obp.write_obp(new_obp, filename)\n",
    "    except:\n",
    "        obp.write_obp(lines, filename)\n",
    "        \n",
    "    if reverse == True:\n",
    "        lines = [obp.Line(line.P2, line.P1, line.Speed, line.bp) for line in reversed(lines)]\n",
    "\n",
    "    return lines"
   ]
  },
  {
   "cell_type": "markdown",
   "metadata": {},
   "source": []
  },
  {
   "cell_type": "code",
   "execution_count": 39,
   "metadata": {},
   "outputs": [],
   "source": [
    "%%add_to Cube\n",
    "#calls the melt pattern on each island in a random order\n",
    "def melt_cube(self, density, filename, reverse = False):\n",
    "    lines = cube.place_lines_one_direction(density, filename, reverse) #change for different melting pattern\n",
    "    return lines"
   ]
  },
  {
   "cell_type": "markdown",
   "metadata": {},
   "source": [
    "## Example - 3$\\times$3 cubes"
   ]
  },
  {
   "cell_type": "code",
   "execution_count": 40,
   "metadata": {},
   "outputs": [
    {
     "data": {
      "application/vnd.jupyter.widget-view+json": {
       "model_id": "f71d551bc351469ea1520989ca935402",
       "version_major": 2,
       "version_minor": 0
      },
      "text/plain": [
       "interactive(children=(IntText(value=99, description='Max Lines:'), IntSlider(value=50, description='upper_lim'…"
      ]
     },
     "metadata": {},
     "output_type": "display_data"
    }
   ],
   "source": [
    "#code example \n",
    "filename = \"hej3.obp\"\n",
    "try:    \n",
    "    os.remove(filename)\n",
    "except:\n",
    "    pass\n",
    "\n",
    "density = 0.1\n",
    "rec_numbers = [3, 3]\n",
    "dimensions = [100, 100]\n",
    "midpoint_list = [\n",
    "    [\n",
    "        (i + 1 - rec_numbers[0]/2) * dimensions[0] * 2, \n",
    "        (j + 1 - rec_numbers[1]/2) * dimensions[1] * 2\n",
    "    ] \n",
    "    for i in range(rec_numbers[0]) for j in range(rec_numbers[1])\n",
    "]\n",
    "cube_list = [\n",
    "    Cube(midpoint = midpoint_list[i], dimensions=[100, 100], speed=100, spot_size=100, power=100)\n",
    "        for i in range(rec_numbers[0] * rec_numbers[1])\n",
    "]\n",
    "lines = []\n",
    "for i in range(rec_numbers[0] * rec_numbers[1]):\n",
    "    lines = lines + cube_list[i].place_lines_one_direction(density, filename, False)\n",
    "\n",
    "iw.interactive_viewer(lines)"
   ]
  },
  {
   "cell_type": "markdown",
   "metadata": {},
   "source": [
    "The strategy of melting one cube at a time can lead to too much heat being unloaded into one cube. To spread out the heat, randomizing the lines will lead to the following pattern:"
   ]
  },
  {
   "cell_type": "code",
   "execution_count": 41,
   "metadata": {},
   "outputs": [
    {
     "data": {
      "application/vnd.jupyter.widget-view+json": {
       "model_id": "9f09c315cdad467b98785cda783223ed",
       "version_major": 2,
       "version_minor": 0
      },
      "text/plain": [
       "interactive(children=(IntText(value=99, description='Max Lines:'), IntSlider(value=50, description='upper_lim'…"
      ]
     },
     "metadata": {},
     "output_type": "display_data"
    }
   ],
   "source": [
    "rand.shuffle(lines)\n",
    "iw.interactive_viewer(lines)"
   ]
  }
 ],
 "metadata": {
  "kernelspec": {
   "display_name": "Python 3",
   "language": "python",
   "name": "python3"
  },
  "language_info": {
   "codemirror_mode": {
    "name": "ipython",
    "version": 3
   },
   "file_extension": ".py",
   "mimetype": "text/x-python",
   "name": "python",
   "nbconvert_exporter": "python",
   "pygments_lexer": "ipython3",
   "version": "3.11.4"
  },
  "orig_nbformat": 4
 },
 "nbformat": 4,
 "nbformat_minor": 2
}

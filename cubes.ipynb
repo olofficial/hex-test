{
 "cells": [
  {
   "cell_type": "markdown",
   "metadata": {},
   "source": [
    "# Build file creation of cuboids <img align=\"right\" width=\"192\" height=\"64\" src=\"https://freemelt.com/app/uploads/freemeltLogo-1.png\">\n",
    "\n",
    "In Electron Beam Manufacturing, it's common to expedite development by simultaneously building multiple objects. This is commonly done by arranging cuboids in a grid and line melting them individually. This second part of the five-part guide will show how this can be conveniently achieved using a class. \n",
    "\n",
    "Importing the necessary libraries:"
   ]
  },
  {
   "cell_type": "code",
   "execution_count": 106,
   "metadata": {},
   "outputs": [],
   "source": [
    "import obplib as obp\n",
    "import os\n",
    "import interactive_viewer as iw\n",
    "import random as rand"
   ]
  },
  {
   "cell_type": "markdown",
   "metadata": {},
   "source": [
    "Using classes to place build objects simplifies the code and improves readability by centralizing related operations. Additionally, it provides a more intuitive interface for users to interact with, as they can simply create an instance of the class and call the desired methods. From this part onwards, classes will be the central object around which the code is centered. \n",
    "\n",
    "Here, the `Cuboid` class is defined. It stores the attributes `midpoint`, `dimensions` as two-dimensional lists, and `speed`, `spot_size`, `power` as ints."
   ]
  },
  {
   "cell_type": "code",
   "execution_count": 107,
   "metadata": {},
   "outputs": [],
   "source": [
    "class Cuboid:\n",
    "    def __init__(self, midpoint, dimensions, speed, spot_size, power):\n",
    "        self.midpoint = midpoint\n",
    "        self.dimensions = dimensions\n",
    "        self.speed = speed\n",
    "        self.spot_size = spot_size\n",
    "        self.power = power"
   ]
  },
  {
   "cell_type": "markdown",
   "metadata": {},
   "source": [
    "A point grid is established, with `density` determining the number of points per micrometer."
   ]
  },
  {
   "cell_type": "code",
   "execution_count": 108,
   "metadata": {},
   "outputs": [],
   "source": [
    "%%add_to Cuboid\n",
    "def _place_points(self, density):\n",
    "    number_of_points = [int(self.dimensions[0] * density), int(self.dimensions[1] * density)]\n",
    "    points = [\n",
    "                [\n",
    "                obp.Point(j / density + self.midpoint[0] - self.dimensions[0] / 2, i / density + self.midpoint[1] - self.dimensions[1] / 2) \n",
    "                for j in range(number_of_points[0] + 1)\n",
    "                ]\n",
    "                for i in range(number_of_points[1] + 1)\n",
    "    ]\n",
    "    return [ele for ele in points if ele] #return points within the build area"
   ]
  },
  {
   "cell_type": "markdown",
   "metadata": {},
   "source": [
    "## Example - four `Cuboid` objects as `Point`'s\n",
    "In this example, four `Cuboid` objects are initialized and placed in a 2 $\\times$ 2 grid. \n",
    "The density is set to be much lower than the `Cuboid` dimensions, so there will only be one point per `Cuboid`."
   ]
  },
  {
   "cell_type": "code",
   "execution_count": 114,
   "metadata": {},
   "outputs": [
    {
     "name": "stdout",
     "output_type": "stream",
     "text": [
      "p_0.x = -100.0, p_0.y = -150.0\n",
      "p_1.x = 100.0, p_1.y = -150.0\n",
      "p_2.x = -100.0, p_2.y = 150.0\n",
      "p_3.x = 100.0, p_3.y = 150.0\n"
     ]
    }
   ],
   "source": [
    "rec_numbers = [2, 2]\n",
    "dimensions = [100, 150]\n",
    "density = 0.001 #low number\n",
    "speed, spot_size, power = 100, 100, 100\n",
    "midpoints = [\n",
    "        [\n",
    "            (j - 1/4) * dimensions[0] * 2,\n",
    "            (i - 1/4) * dimensions[1] * 2\n",
    "        ] \n",
    "        for i in range(rec_numbers[0]) for j in range(rec_numbers[1])\n",
    "    ]\n",
    "\n",
    "cuboids = [Cube(midpoints[i], dimensions, speed, spot_size, power) for i in range(rec_numbers[0] * rec_numbers[1])]\n",
    "\n",
    "points = []\n",
    "for i in range(rec_numbers[0] * rec_numbers[1]):\n",
    "    points = points + cuboids[i]._place_points(density)\n",
    "\n",
    "for i in range(rec_numbers[0] * rec_numbers[1]):\n",
    "    for j in range(len(points[i])):\n",
    "        print(\"p_{}.x = {}, p_{}.y = {}\".format(i, points[i][j].x, i, points[i][j].y))"
   ]
  },
  {
   "cell_type": "markdown",
   "metadata": {},
   "source": [
    "Unidirectional line melting patterns is common within EBM due to their effectiveness and ease of implementation. To achieve this, the method `place_lines_one_direction` is introduced. "
   ]
  },
  {
   "cell_type": "code",
   "execution_count": 110,
   "metadata": {},
   "outputs": [],
   "source": [
    "%%add_to Cuboid\n",
    "def place_lines_one_direction(self, density, filename, reverse):\n",
    "    # Generate the points on the powder bed\n",
    "    points = self._place_points(density)\n",
    "\n",
    "    # Create the lines based on the points\n",
    "    lines = []\n",
    "    y_range = range(len(points))\n",
    "    bp = obp.Beamparameters(self.spot_size, self.power)\n",
    "    for y in y_range:\n",
    "        lines.append(obp.Line(points[y][0], points[y][-1], self.speed, bp))\n",
    "\n",
    "    # Write the lines to the file\n",
    "    try:\n",
    "        old_obp = obp.read_obp(filename)\n",
    "        new_obp = old_obp + lines\n",
    "        obp.write_obp(new_obp, filename)\n",
    "    except:\n",
    "        obp.write_obp(lines, filename)\n",
    "        \n",
    "    if reverse == True:\n",
    "        lines = [obp.Line(line.P2, line.P1, line.Speed, line.bp) for line in reversed(lines)]\n",
    "\n",
    "    return lines"
   ]
  },
  {
   "cell_type": "markdown",
   "metadata": {},
   "source": []
  },
  {
   "cell_type": "code",
   "execution_count": 111,
   "metadata": {},
   "outputs": [],
   "source": [
    "%%add_to Cuboid\n",
    "#calls the melt pattern on each island in a random order\n",
    "def melt_cuboid(self, density, filename, reverse = False):\n",
    "    lines = Cuboid.place_lines_one_direction(density, filename, reverse) #change for different melting pattern\n",
    "    return lines"
   ]
  },
  {
   "cell_type": "markdown",
   "metadata": {},
   "source": [
    "## Example - 3 $\\times$ 3 cuboids"
   ]
  },
  {
   "cell_type": "code",
   "execution_count": 112,
   "metadata": {},
   "outputs": [
    {
     "data": {
      "application/vnd.jupyter.widget-view+json": {
       "model_id": "a67159cd012b4556953f7076b1e277f0",
       "version_major": 2,
       "version_minor": 0
      },
      "text/plain": [
       "interactive(children=(IntText(value=99, description='Max Lines:'), IntSlider(value=50, description='upper_lim'…"
      ]
     },
     "metadata": {},
     "output_type": "display_data"
    }
   ],
   "source": [
    "#code example \n",
    "filename = \"hej3.obp\"\n",
    "try:    \n",
    "    os.remove(filename)\n",
    "except:\n",
    "    pass\n",
    "\n",
    "density = 0.1\n",
    "rec_numbers = [3, 3]\n",
    "dimensions = [100, 100]\n",
    "midpoint_list = [\n",
    "    [\n",
    "        (i + 1 - rec_numbers[0]/2) * dimensions[0] * 2, \n",
    "        (j + 1 - rec_numbers[1]/2) * dimensions[1] * 2\n",
    "    ] \n",
    "    for i in range(rec_numbers[0]) for j in range(rec_numbers[1])\n",
    "]\n",
    "cuboid_list = [\n",
    "    Cuboid(midpoint = midpoint_list[i], dimensions=[100, 100], speed=100, spot_size=100, power=100)\n",
    "        for i in range(rec_numbers[0] * rec_numbers[1])\n",
    "]\n",
    "lines = []\n",
    "for i in range(rec_numbers[0] * rec_numbers[1]):\n",
    "    lines = lines + cuboid_list[i].place_lines_one_direction(density, filename, False)\n",
    "\n",
    "iw.interactive_viewer(lines)"
   ]
  }
 ],
 "metadata": {
  "kernelspec": {
   "display_name": "Python 3",
   "language": "python",
   "name": "python3"
  },
  "language_info": {
   "codemirror_mode": {
    "name": "ipython",
    "version": 3
   },
   "file_extension": ".py",
   "mimetype": "text/x-python",
   "name": "python",
   "nbconvert_exporter": "python",
   "pygments_lexer": "ipython3",
   "version": "3.11.4"
  },
  "orig_nbformat": 4
 },
 "nbformat": 4,
 "nbformat_minor": 2
}

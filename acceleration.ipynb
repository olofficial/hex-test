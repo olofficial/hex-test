{
 "cells": [
  {
   "cell_type": "markdown",
   "metadata": {},
   "source": [
    "# Accelerating lines and curves <img align=\"right\" width=\"192\" height=\"64\" src=\"https://freemelt.com/app/uploads/freemeltLogo-1.png\">\n",
    "Accelerating lines are useful when working with highly heat conductive materials, such as tungsten. When line melting tungsten with a constant traverse speed, the heat will traverse the powder ahead of the beam in the form of a wave, causing overmelting. Accelerating the lines can allow for \"catching up\" to the heatwave and mitigate overmelting. \n",
    "\n",
    "Accelerating lines are also useful for configuring porosity in a material: a uniformly accelerating line will ensure a smooth porosity gradient in the build object. "
   ]
  },
  {
   "cell_type": "code",
   "execution_count": 1,
   "metadata": {},
   "outputs": [],
   "source": [
    "import obplib as obp\n",
    "import notebook_viewer as nw\n",
    "import numpy as np\n",
    "import os"
   ]
  },
  {
   "cell_type": "markdown",
   "metadata": {},
   "source": [
    "## The `AcceleratingLine`/`AcceleratingCurve` objects\n",
    "In most respects, the accelerating paths are the same as their nonaccelerating counterparts. The difference is, of course, the acceleration.\n",
    "\n",
    "The nonaccelerating objects have a `Speed`/`speed` attribute which is constant along the whole path. The accelerating paths instead have `si` (initial velocity) and `sf` (final velocity) attributes. The velocity of the beam will go from `si` to `sf` with a constant acceleration during its traverse. "
   ]
  },
  {
   "cell_type": "markdown",
   "metadata": {},
   "source": [
    "### Example - Half Circle\n",
    "In this example, a half circle is created using accelerating lines. It's a variant of the last example in [the `Curve` guide](länk), with acceleration added."
   ]
  },
  {
   "cell_type": "code",
   "execution_count": 2,
   "metadata": {},
   "outputs": [
    {
     "data": {
      "application/vnd.jupyter.widget-view+json": {
       "model_id": "7e8577c3478c4578b8e9446284f3a68a",
       "version_major": 2,
       "version_minor": 0
      },
      "text/plain": [
       "interactive(children=(IntSlider(value=2, description='upper_lim', max=3, min=1), IntText(value=3, description=…"
      ]
     },
     "metadata": {},
     "output_type": "display_data"
    }
   ],
   "source": [
    "def accelerating_bezier_half_circle(midpoint=[0, 0], radius=1):\n",
    "    #Define the coefficients for the bezier curve\n",
    "    a, b, c = 1.00005519, 0.55342686, 0.99873585\n",
    "\n",
    "    curves = []\n",
    "    for i in range(2):\n",
    "        #Define the control coordinates for the bezier curve\n",
    "        control_coordinates = [[0, -a], [b, -c], [c, -b], [a, -0]]  # mirroring in the y axis\n",
    "\n",
    "        #Scale the control coordinates with the radius\n",
    "        control_coordinates = [np.multiply(control_coordinates[i], radius) for i in range(len(control_coordinates))]\n",
    "\n",
    "        #Mirroring the control points in the x and y plane to create the four parts\n",
    "        if i == 1:\n",
    "            control_coordinates = [[np.multiply(control_coordinates[i][0], -1), control_coordinates[i][1]] for i in range(len(control_coordinates))]\n",
    "\n",
    "        #Translate the control coordinates with the midpoint\n",
    "        control_coordinates = [np.add(control_coordinates[i], midpoint) for i in range(len(control_coordinates))]\n",
    "\n",
    "        #Create Point objects from the control coordinates\n",
    "        control_points = [obp.Point(control_coordinates[i][0], control_coordinates[i][1]) for i in range(len(control_coordinates))]\n",
    "\n",
    "        #Create circle segments and add them to the curves list\n",
    "        curves.append(obp.AcceleratingCurve(control_points[0], control_points[1], control_points[2], control_points[3], si=100, sf=200, bp=obp.Beamparameters(spot_size=100, power=100)))\n",
    "\n",
    "    #Create line segment and add it to the curves list\n",
    "    line_points = [obp.Point(-a, 0), obp.Point(a, 0)]\n",
    "    curves.append(obp.AcceleratingLine(line_points[0], line_points[1], si=200, sf=100, bp=obp.Beamparameters(spot_size=100, power=100)))\n",
    "\n",
    "    return curves\n",
    "\n",
    "#Create the curves\n",
    "cur = accelerating_bezier_half_circle()\n",
    "\n",
    "\n",
    "filename = 'accelerating_half_circle.obp'\n",
    "#Remove the file if it already exists\n",
    "try:\n",
    "    os.remove(filename)\n",
    "except:\n",
    "    pass\n",
    "\n",
    "#Write the curves to the file\n",
    "obp.write_obp(cur, filename)\n",
    "\n",
    "#Display the curves using the interactive viewer\n",
    "nw.notebook_viewer(cur)\n"
   ]
  }
 ],
 "metadata": {
  "kernelspec": {
   "display_name": "Python 3",
   "language": "python",
   "name": "python3"
  },
  "language_info": {
   "codemirror_mode": {
    "name": "ipython",
    "version": 3
   },
   "file_extension": ".py",
   "mimetype": "text/x-python",
   "name": "python",
   "nbconvert_exporter": "python",
   "pygments_lexer": "ipython3",
   "version": "3.11.4"
  },
  "orig_nbformat": 4
 },
 "nbformat": 4,
 "nbformat_minor": 2
}

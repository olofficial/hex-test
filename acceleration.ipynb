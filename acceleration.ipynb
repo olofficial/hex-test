{
 "cells": [
  {
   "cell_type": "markdown",
   "metadata": {},
   "source": [
    "# Accelerating lines and curves <img align=\"right\" width=\"192\" height=\"64\" src=\"https://freemelt.com/app/uploads/freemeltLogo-1.png\">\n",
    "Accelerating lines are useful when working with highly heat conductive materials, such as tungsten. When line melting tungsten with a constant traverse speed, the heat will traverse the powder ahead of the beam in the form of a wave, causing overmelting. Accelerating the lines can allow for \"catching up\" to the heatwave and mitigate overmelting. \n",
    "\n",
    "Accelerating lines are also useful for configuring porosity in a material: a uniformly accelerating line will ensure a smooth porosity gradient in the build object. "
   ]
  },
  {
   "cell_type": "code",
   "execution_count": 1,
   "metadata": {},
   "outputs": [],
   "source": [
    "import obplib as obp\n",
    "import interactive_viewer as iw"
   ]
  },
  {
   "cell_type": "markdown",
   "metadata": {},
   "source": [
    "### Example - Half Circle\n",
    "In this example, a half circle is created using accelerating lines."
   ]
  },
  {
   "cell_type": "code",
   "execution_count": 2,
   "metadata": {},
   "outputs": [
    {
     "data": {
      "application/vnd.jupyter.widget-view+json": {
       "model_id": "e965d0aebbcf4c6ea13f13368d57e831",
       "version_major": 2,
       "version_minor": 0
      },
      "text/plain": [
       "interactive(children=(IntSlider(value=1, description='upper_lim', max=2, min=1), IntText(value=2, description=…"
      ]
     },
     "metadata": {},
     "output_type": "display_data"
    }
   ],
   "source": [
    "p_1 = obp.Point(0, 0)\n",
    "p_2 = obp.Point(1, 0)\n",
    "p_3 = obp.Point(1, 1)\n",
    "p_4 = obp.Point(0, 1)\n",
    "\n",
    "control_points = [p_1, p_2, p_3, p_4] #four points for a simple cubic Bézier curve\n",
    "\n",
    "cur = []\n",
    "#accelerating Bézier curve (speed = (100 -> 200))\n",
    "cur.append(obp.AcceleratingCurve(control_points[3], control_points[0], control_points[1], control_points[2], si = 100, sf = 200, bp = obp.Beamparameters(spot_size = 100, power = 100)))\n",
    "#decelerating line (speed = (200 -> 100))\n",
    "cur.append(obp.AcceleratingLine(p_3, p_4, si = 200, sf = 100, bp = obp.Beamparameters(spot_size = 100, power = 100)))\n",
    "\n",
    "iw.interactive_viewer(cur)"
   ]
  }
 ],
 "metadata": {
  "kernelspec": {
   "display_name": "Python 3",
   "language": "python",
   "name": "python3"
  },
  "language_info": {
   "codemirror_mode": {
    "name": "ipython",
    "version": 3
   },
   "file_extension": ".py",
   "mimetype": "text/x-python",
   "name": "python",
   "nbconvert_exporter": "python",
   "pygments_lexer": "ipython3",
   "version": "3.11.4"
  },
  "orig_nbformat": 4
 },
 "nbformat": 4,
 "nbformat_minor": 2
}
